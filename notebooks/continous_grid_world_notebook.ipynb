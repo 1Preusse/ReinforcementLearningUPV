{
 "cells": [
  {
   "cell_type": "code",
   "execution_count": 9,
   "metadata": {},
   "outputs": [
    {
     "name": "stdout",
     "output_type": "stream",
     "text": [
      "[WinError 3] Das System kann den angegebenen Pfad nicht finden: '/absolute/path/to/project_directory'\n",
      "c:\\Users\\konst\\OneDrive\\Desktop\\Code Projects\\ReinforcementLearningUPV\\notebooks\n"
     ]
    },
    {
     "ename": "ModuleNotFoundError",
     "evalue": "No module named 'environments'",
     "output_type": "error",
     "traceback": [
      "\u001b[1;31m---------------------------------------------------------------------------\u001b[0m",
      "\u001b[1;31mModuleNotFoundError\u001b[0m                       Traceback (most recent call last)",
      "Cell \u001b[1;32mIn[9], line 3\u001b[0m\n\u001b[0;32m      1\u001b[0m get_ipython()\u001b[38;5;241m.\u001b[39mrun_line_magic(\u001b[38;5;124m'\u001b[39m\u001b[38;5;124mcd\u001b[39m\u001b[38;5;124m'\u001b[39m, \u001b[38;5;124m'\u001b[39m\u001b[38;5;124m/absolute/path/to/project_directory\u001b[39m\u001b[38;5;124m'\u001b[39m)\n\u001b[1;32m----> 3\u001b[0m \u001b[38;5;28;01mimport\u001b[39;00m \u001b[38;5;21;01menvironments\u001b[39;00m\u001b[38;5;21;01m.\u001b[39;00m\u001b[38;5;21;01mcontinuous_grid_world_environment\u001b[39;00m \u001b[38;5;28;01mas\u001b[39;00m \u001b[38;5;21;01mcgwe\u001b[39;00m\n\u001b[0;32m      5\u001b[0m \u001b[38;5;66;03m# Initialize environment\u001b[39;00m\n\u001b[0;32m      6\u001b[0m env \u001b[38;5;241m=\u001b[39m cgwe\u001b[38;5;241m.\u001b[39mContinuousWindyGridworld()\n",
      "\u001b[1;31mModuleNotFoundError\u001b[0m: No module named 'environments'"
     ]
    }
   ],
   "source": [
    "%cd /absolute/path/to/project_directory\n",
    "\n",
    "import environments.continuous_grid_world_environment as cgwe\n",
    "\n",
    "# Initialize environment\n",
    "env = cgwe.ContinuousWindyGridworld()\n",
    "\n",
    "# Reset to start\n",
    "state = env.reset()\n",
    "print(f\"Start State: {state}\")\n",
    "\n",
    "# Step through the environment\n",
    "done = False\n",
    "while not done:\n",
    "    action = np.random.choice(4)  # Example discrete action\n",
    "    next_state, reward, done = env.step(action)\n",
    "    print(f\"Next State: {next_state}, Reward: {reward}, Done: {done}\")"
   ]
  }
 ],
 "metadata": {
  "kernelspec": {
   "display_name": "TradingBot",
   "language": "python",
   "name": "python3"
  },
  "language_info": {
   "codemirror_mode": {
    "name": "ipython",
    "version": 3
   },
   "file_extension": ".py",
   "mimetype": "text/x-python",
   "name": "python",
   "nbconvert_exporter": "python",
   "pygments_lexer": "ipython3",
   "version": "3.8.19"
  }
 },
 "nbformat": 4,
 "nbformat_minor": 2
}
